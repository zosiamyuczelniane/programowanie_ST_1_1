{
  "cells": [
    {
      "cell_type": "markdown",
      "metadata": {
        "id": "bIdhE7tspLeh"
      },
      "source": [
        "Zadanie 1"
      ]
    },
    {
      "cell_type": "code",
      "execution_count": 16,
      "metadata": {
        "colab": {
          "base_uri": "https://localhost:8080/"
        },
        "id": "DXGSusncorCF",
        "outputId": "65e568b0-9a80-4d09-c631-33c299691da5"
      },
      "outputs": [
        {
          "output_type": "stream",
          "name": "stdout",
          "text": [
            "Podaj swoje imię Test\n",
            "Podaj swoje nazwisko Testowy\n",
            "Podaj swój wiek 123\n",
            "Podaj hasło qwerty\n",
            "Powtórz hasło qwserdfe\n",
            "Hej! To nie jest prawidłowe hasło. Spróbuj wpisać swoje hasło jeszcze raz.\n",
            "Powtórz hasło 1qw34e\n",
            "Hej! To nie jest prawidłowe hasło. Spróbuj wpisać swoje hasło jeszcze raz.\n",
            "Powtórz hasło qwerty\n",
            "Prawidłowe hasło! \n",
            "Wprowadzone przez Ciebie dane to: Test Testowy 123 qwerty\n"
          ]
        }
      ],
      "source": [
        "imie = input(\"Podaj swoje imię \")\n",
        "\n",
        "while imie.isalpha() == False:\n",
        " print(\"To chyba nie jest Twoje prawdziwe imię\")\n",
        " imie = input(\"Podaj swoje prawdziwe imię \")\n",
        "\n",
        "\n",
        "nazwisko = input(\"Podaj swoje nazwisko \")\n",
        "while nazwisko.isalpha() == False:\n",
        " print(\"To chyba nie jest Twoje prawdziwe nazwisko\")\n",
        " imie = input(\"Podaj swoje prawdziwe nazwisko \")\n",
        "\n",
        "\n",
        "wiek = input(\"Podaj swój wiek \")\n",
        "while wiek.isdigit() == False:\n",
        "  print(\"To chyba nie jest Twój wiek\")\n",
        "  wiek = input(\"Podaj swój prawdziwy wiek \")\n",
        "\n",
        "\n",
        "haslo = input(\"Podaj hasło \")\n",
        "powtorz_haslo = input(\"Powtórz hasło \")\n",
        "\n",
        "while haslo != powtorz_haslo:\n",
        "  print(\"Hej! To nie jest prawidłowe hasło. Spróbuj wpisać swoje hasło jeszcze raz.\")\n",
        "  powtorz_haslo = input(\"Powtórz hasło \")\n",
        "\n",
        "print(\"Prawidłowe hasło! \")\n",
        "\n",
        "\n",
        "print(\"Wprowadzone przez Ciebie dane to:\", imie, nazwisko, wiek, haslo )\n",
        "\n"
      ]
    },
    {
      "cell_type": "markdown",
      "metadata": {
        "id": "cDb-xoXcvphL"
      },
      "source": [
        "Zadanie 2"
      ]
    },
    {
      "cell_type": "code",
      "execution_count": 17,
      "metadata": {
        "colab": {
          "base_uri": "https://localhost:8080/"
        },
        "id": "4qBHYKTvpsT3",
        "outputId": "4eb3e5b2-059b-4211-ca84-7757a5b51ebc"
      },
      "outputs": [
        {
          "output_type": "stream",
          "name": "stdout",
          "text": [
            "Jestem prostym kalkulatorem! Zaraz zapytam Cię o działanie jakie chcesz wykonać\n",
            "Ale najpierw wpisz pierwszą liczbę: 23\n",
            "Wpisz drugą liczbę: 12\n",
            "Twoje liczby to:  23 i 12 Teraz powiedz mi jakie działanie chcesz wykonać - podaj liczbę odpowiadającą działaniu\n",
            "1. dodawanie, 2. odejmowanie, 3. dzielenie, 4. potęgowanie, 5. moduloedx\n",
            "To nie jest liczba z zakresu 1-5\n",
            "Spróbuj wpisać liczbę jeszcze raz 3e4r\n",
            "To nie jest liczba z zakresu 1-5\n",
            "Spróbuj wpisać liczbę jeszcze raz r43wee\n",
            "To nie jest liczba z zakresu 1-5\n",
            "Spróbuj wpisać liczbę jeszcze raz 2\n",
            "Wynik odejmowania: 11\n"
          ]
        }
      ],
      "source": [
        "print(\"Jestem prostym kalkulatorem! Zaraz zapytam Cię o działanie jakie chcesz wykonać\")\n",
        "\n",
        "x = input(\"Ale najpierw wpisz pierwszą liczbę: \")\n",
        "while x.isdigit() == False:\n",
        "  print(\"To nie jest liczba\")\n",
        "  x = input(\"Spróbuj wpisać liczbę jeszcze raz \")\n",
        "\n",
        "x = int(x)\n",
        "\n",
        "y = input(\"Wpisz drugą liczbę: \")\n",
        "while y.isdigit() == False:\n",
        "  print(\"To nie jest liczba\")\n",
        "  y = input(\"Spróbuj wpisać liczbę jeszcze raz \")\n",
        "\n",
        "y = int(y)\n",
        "\n",
        "print(\"Twoje liczby to: \", x, \"i\", y, \"Teraz powiedz mi jakie działanie chcesz wykonać - podaj liczbę odpowiadającą działaniu\")\n",
        "dzialanie = input(\"1. dodawanie, 2. odejmowanie, 3. dzielenie, 4. potęgowanie, 5. modulo\")\n",
        "\n",
        "while dzialanie not in [\"1\",\"2\",\"3\",\"4\",\"5\"]:\n",
        "  print(\"To nie jest liczba z zakresu 1-5\")\n",
        "  dzialanie = input(\"Spróbuj wpisać liczbę jeszcze raz \")\n",
        "\n",
        "if dzialanie == \"1\":\n",
        "    print(\"Wynik dodawania:\", x+y)\n",
        "elif dzialanie == \"2\":\n",
        "      print(\"Wynik odejmowania:\", x-y)\n",
        "elif dzialanie == \"3\":\n",
        "      print(\"Wynik dzielenia:\", x/y)\n",
        "elif dzialanie == \"4\":\n",
        "      print(\"Wynik potegowania:\", x**y)\n",
        "elif dzialanie == \"5\":\n",
        "      print(\"Wynik modulo:\", x%y)\n",
        "\n"
      ]
    },
    {
      "cell_type": "code",
      "execution_count": null,
      "metadata": {
        "id": "T-L_npIKwijb"
      },
      "outputs": [],
      "source": []
    }
  ],
  "metadata": {
    "colab": {
      "provenance": []
    },
    "kernelspec": {
      "display_name": "Python 3",
      "name": "python3"
    },
    "language_info": {
      "name": "python"
    }
  },
  "nbformat": 4,
  "nbformat_minor": 0
}